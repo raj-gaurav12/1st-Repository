{
 "cells": [
  {
   "cell_type": "markdown",
   "metadata": {},
   "source": [
    "ASSIGNEMENT EXTRA"
   ]
  },
  {
   "cell_type": "code",
   "execution_count": 1,
   "metadata": {},
   "outputs": [
    {
     "name": "stdout",
     "output_type": "stream",
     "text": [
      "Enter tempr in F: 32\n",
      "The Tempr in Celcius is  0.0\n"
     ]
    }
   ],
   "source": [
    "#1. WAP Input temperature in Fahrenheit in print in Cel\n",
    "temp=int(input('Enter tempr in F: '))\n",
    "cel=(temp-32)*5/9\n",
    "print('The Tempr in Celcius is ',cel)"
   ]
  },
  {
   "cell_type": "code",
   "execution_count": 5,
   "metadata": {},
   "outputs": [
    {
     "name": "stdout",
     "output_type": "stream",
     "text": [
      "enter the no: 2\n",
      "square of the no is:  4 \n",
      "cube of the no is:  8\n"
     ]
    }
   ],
   "source": [
    "#2. Write a program to input a number and print its square and cube.\n",
    "num=int(input('enter the no: '))\n",
    "print('square of the no is: ',num**2,'\\n''cube of the no is: ',num**3)"
   ]
  },
  {
   "cell_type": "code",
   "execution_count": 9,
   "metadata": {},
   "outputs": [
    {
     "name": "stdout",
     "output_type": "stream",
     "text": [
      "enter the no n: 2\n",
      "enter the no m: 4\n",
      "result of the expression is: 20\n"
     ]
    }
   ],
   "source": [
    "#3. WAP to input a number n and a number m and print the result of following n2 + m2\n",
    "n=int(input('enter the no n: '))\n",
    "m=int(input('enter the no m: '))\n",
    "res=(n**2)+(m**2)\n",
    "print('result of the expression is:',res)"
   ]
  },
  {
   "cell_type": "code",
   "execution_count": 11,
   "metadata": {},
   "outputs": [
    {
     "name": "stdout",
     "output_type": "stream",
     "text": [
      "enter the no n: 2\n",
      "enter the no m: 2\n",
      "** result is:  4 \n",
      "pow result is:  4\n"
     ]
    }
   ],
   "source": [
    "#4. WAP to input a numbers M and N and print result of MN. (use both ** and pow)\n",
    "n=int(input('enter the no n: '))\n",
    "m=int(input('enter the no m: '))\n",
    "res1=m**n\n",
    "res2=pow(m,n)\n",
    "print('** result is: ',res1,'\\n''pow result is: ',res2)"
   ]
  },
  {
   "cell_type": "code",
   "execution_count": 18,
   "metadata": {},
   "outputs": [
    {
     "name": "stdout",
     "output_type": "stream",
     "text": [
      "enter the principal amount: 100\n",
      "enter the rate: 2\n",
      "enter the time: 2\n",
      "number of times that interest is compounded per unit t: 2\n",
      "the simple intrest is:  200.0\n",
      "the compunded amount is:  300.0 \n",
      "copmpound intrest is:  200.0\n"
     ]
    }
   ],
   "source": [
    "#5. Write a simple interest calculator.\n",
    "#6. Input Principal, Rate, Time and print Compound Interest and Amount.\n",
    "p=int(input('enter the principal amount: '))\n",
    "r=int(input('enter the rate: '))\n",
    "t=int(input('enter the time: '))\n",
    "n=int(input('number of times that interest is compounded per unit t: '))\n",
    "si=p*r*t/100\n",
    "amount_cmp=p*(1+(r/n)**n*t)\n",
    "si=amount_cmp-p\n",
    "print('the simple intrest is: ',si)\n",
    "print('the compunded amount is: ',amount_cmp,'\\n''copmpound intrest is: ',si)"
   ]
  },
  {
   "cell_type": "code",
   "execution_count": 3,
   "metadata": {},
   "outputs": [
    {
     "name": "stdout",
     "output_type": "stream",
     "text": [
      "enter the number : 5\n",
      "the sum of the given natural no are: 15.0\n"
     ]
    }
   ],
   "source": [
    "#WAP to print sum of first n natural numbers. (n needs to be taken as input).\n",
    "n=int(input('enter the number : '))\n",
    "sum=n*(n+1)/2\n",
    "print('the sum of the given natural no are:',sum)"
   ]
  },
  {
   "cell_type": "code",
   "execution_count": 5,
   "metadata": {},
   "outputs": [
    {
     "name": "stdout",
     "output_type": "stream",
     "text": [
      "enter the 1st no: 5\n",
      "enter the 2nd no: 7\n",
      "swap results by temp of n1 is 7 \n",
      "swap results by temp of n2 is:  5\n"
     ]
    }
   ],
   "source": [
    "#8. WAP to input 2 numbers and swap them. (write using both normal logic with temp variable and also the pythonic way).\n",
    "#tem method\n",
    "n1=int(input('enter the 1st no: '))\n",
    "n2=int(input('enter the 2nd no: '))\n",
    "temp=n1\n",
    "n1=n2\n",
    "n2=temp\n",
    "print('swap results by temp of n1 is',n1,'\\n''swap results by temp of n2 is: ',n2)\n",
    "\n"
   ]
  },
  {
   "cell_type": "code",
   "execution_count": 6,
   "metadata": {},
   "outputs": [
    {
     "name": "stdout",
     "output_type": "stream",
     "text": [
      "enter the 1st no: 5\n",
      "enter the 2nd no: 7\n",
      "swap results by pythonic way of n1 is 7 \n",
      "swap results by pythonic of n2 is:  5\n"
     ]
    }
   ],
   "source": [
    "#8 pythonic way\n",
    "n1=int(input('enter the 1st no: '))\n",
    "n2=int(input('enter the 2nd no: '))\n",
    "n1,n2=n2,n1\n",
    "print('swap results by pythonic way of n1 is',n1,'\\n''swap results by pythonic of n2 is: ',n2)"
   ]
  },
  {
   "cell_type": "code",
   "execution_count": 18,
   "metadata": {},
   "outputs": [
    {
     "name": "stdout",
     "output_type": "stream",
     "text": [
      "10\n",
      "9\n",
      "13\n",
      "8\n",
      "12\n",
      "7\n",
      "11\n"
     ]
    }
   ],
   "source": [
    "#9. WAP to print ascii value of all white-space characters present in python. (doubt) what is white spcae char?????\n",
    "print(ord(\"\\n\"))\n",
    "print(ord(\"\\t\"))\n",
    "print(ord(\"\\r\"))\n",
    "print(ord(\"\\b\"))\n",
    "print(ord(\"\\f\"))\n",
    "print(ord(\"\\a\"))\n",
    "print(ord(\"\\v\"))"
   ]
  },
  {
   "cell_type": "code",
   "execution_count": 17,
   "metadata": {},
   "outputs": [
    {
     "name": "stdout",
     "output_type": "stream",
     "text": [
      "enter the chr for getting the ascii value: a\n",
      "the ascii value of white space character is : 97\n"
     ]
    }
   ],
   "source": [
    "#10. Input a single character and print its ascii values.\n",
    "str1=input('enter the chr for getting the ascii value: ')\n",
    "print('the ascii value of white space character is :',ord(str1))"
   ]
  },
  {
   "cell_type": "code",
   "execution_count": 11,
   "metadata": {},
   "outputs": [
    {
     "name": "stdout",
     "output_type": "stream",
     "text": [
      "enter the area of circle: 50\n",
      "the radius of the cirle of the given area is :  3.9904344223381107\n"
     ]
    }
   ],
   "source": [
    "#11. WAP that takes area of a circle and gives back the radius and circumference.\n",
    "area=int(input('enter the area of circle: '))\n",
    "r=(area/3.14)**.5\n",
    "print('the radius of the cirle of the given area is : ',r)"
   ]
  },
  {
   "cell_type": "code",
   "execution_count": 15,
   "metadata": {},
   "outputs": [
    {
     "name": "stdout",
     "output_type": "stream",
     "text": [
      "enter marks obtained in 1st sub: 70\n",
      "enter marks obtained in 2nd sub: 80\n",
      "enter marks obtained in 3rd sub: 90\n",
      "enter marks obtained in 4th sub: 65\n",
      "enter marks obtained in 5th sub: 50\n",
      "percentage obtained is :  71.0\n"
     ]
    }
   ],
   "source": [
    "#12. wap We need to input marks in 5 subjects out of 100 and print percentage.\n",
    "s1=int(input('enter marks obtained in 1st sub: '))\n",
    "s2=int(input('enter marks obtained in 2nd sub: '))\n",
    "s3=int(input('enter marks obtained in 3rd sub: '))\n",
    "s4=int(input('enter marks obtained in 4th sub: '))\n",
    "s5=int(input('enter marks obtained in 5th sub: '))\n",
    "percent=((s1+s2+s3+s4+s5)/5)\n",
    "print('percentage obtained is : ',percent)\n"
   ]
  },
  {
   "cell_type": "code",
   "execution_count": null,
   "metadata": {},
   "outputs": [],
   "source": []
  }
 ],
 "metadata": {
  "kernelspec": {
   "display_name": "Python 3",
   "language": "python",
   "name": "python3"
  },
  "language_info": {
   "codemirror_mode": {
    "name": "ipython",
    "version": 3
   },
   "file_extension": ".py",
   "mimetype": "text/x-python",
   "name": "python",
   "nbconvert_exporter": "python",
   "pygments_lexer": "ipython3",
   "version": "3.7.4"
  }
 },
 "nbformat": 4,
 "nbformat_minor": 2
}
